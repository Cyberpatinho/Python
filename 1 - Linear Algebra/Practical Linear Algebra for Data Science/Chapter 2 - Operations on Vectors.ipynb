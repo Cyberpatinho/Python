{
 "cells": [
  {
   "cell_type": "markdown",
   "id": "4561234c",
   "metadata": {},
   "source": [
    "# Exercise 2-1.\n",
    "<font size=\"4\">The online code repository is “missing” code to create Figure 2-2. (It’s not really\n",
    "missing—I moved it into the solution to this exercise.) So, your goal here is to write your own code to produce Figure 2-2.</font>\n",
    "\n",
    "![figure 2-2](./img/2-2.png)\n"
   ]
  },
  {
   "cell_type": "code",
   "execution_count": null,
   "id": "fe6fe556",
   "metadata": {},
   "outputs": [],
   "source": [
    "import numpy as np\n",
    "import matplotlib.pyplot as plt\n",
    "\n",
    "v = np.array([1, 2])\n",
    "w = np.array([4, -6])\n",
    "vPlusw = v + w\n",
    "vMinusw = v - w\n",
    "\n",
    "fig, (g1, g2) = plt.subplots(nrows=1, ncols=2, figsize=(8, 4))\n",
    "\n",
    "g1.set_title('A)\\n Vectors $\\mathbf{v}$, $\\mathbf{w}$, and $\\mathbf{v+w}$')\n",
    "g2.set_title('B)\\n Vectors $\\mathbf{v}$, $\\mathbf{w}$, and $\\mathbf{v-w}$')\n",
    "\n",
    "for g in (g1, g2):\n",
    "    g.set_xlim([-6, 6])\n",
    "    g.set_ylim([-6, 6])\n",
    "    g.grid()\n",
    "    \n",
    "a1 = g1.arrow(0, 0, v[0], v[1], head_width=0.2, width=0.05, color='red', length_includes_head=True)\n",
    "a2 = g1.arrow(1, 2, w[0], w[1], head_width=0.2, width=0.05, color='green', length_includes_head=True)\n",
    "a3 = g1.arrow(0, 0, vPlusw[0], vPlusw[1], head_width=0.2, width=0.05, color='blue', length_includes_head=True)\n",
    "g1.legend([a1, a2, a3], ['v', 'w', 'v + w'])\n",
    "\n",
    "a4 = g2.arrow(0, 0, v[0], v[1], head_width=0.2, width=0.05, color='red', length_includes_head=True)\n",
    "a5 = g2.arrow(0, 0, w[0], w[1], head_width=0.2, width=0.05, color='green', length_includes_head=True)\n",
    "a6 = g2.arrow(4, -6, vMinusw[0], vMinusw[1], head_width=0.2, width=0.05, color='blue', length_includes_head=True)\n",
    "g2.legend([a4, a5, a6], ['v', 'w', 'v - w'])\n",
    "\n",
    "plt.show()"
   ]
  },
  {
   "cell_type": "markdown",
   "id": "37630166",
   "metadata": {},
   "source": [
    "# Exercise 2-2.\n",
    "<font size=\"4\">Write an algorithm that computes the norm of a vector by translating Equation\n",
    "2-7 into code. Confirm, using random vectors with different dimensionalities and\n",
    "orientations, that you get the same result as np.linalg.norm(). This exercise is\n",
    "designed to give you more experience with indexing NumPy arrays and translating\n",
    "formulas into code; in practice, it’s often easier to use np.linalg.norm().</font>\n",
    "\n",
    "![figure 2-7](./img/2-7.png)"
   ]
  },
  {
   "cell_type": "code",
   "execution_count": null,
   "id": "334f10b5",
   "metadata": {},
   "outputs": [],
   "source": [
    "import math\n",
    "import numpy as np \n",
    "\n",
    "N = 100 # Number of tests to run\n",
    "MAXIMUM_DIMENSION = 50\n",
    "MAXIMUM_VALUE = 1000\n",
    "\n",
    "def my_norm(v):\n",
    "    return math.sqrt(np.sum(np.square(v)))\n",
    "\n",
    "def generate_vector(dimension, is_column):\n",
    "    if is_column:\n",
    "        return np.random.randint(MAXIMUM_VALUE + 1, size=(dimension, 1))\n",
    "    else:\n",
    "        return np.random.randint(MAXIMUM_VALUE + 1 , size=(1, dimension))\n",
    "\n",
    "for i in range(0, N):\n",
    "    dimension = np.random.randint(1, MAXIMUM_DIMENSION)\n",
    "    is_column = bool(np.random.randint(0, 2))\n",
    "    \n",
    "    vector = generate_vector(dimension, is_column);\n",
    "    \n",
    "    norm1 = my_norm(vector)\n",
    "    norm2 = np.linalg.norm(vector)\n",
    "    \n",
    "    print((\"\" if norm1 == norm2 else \" ERROR: \") + str(norm1) + \" = \" + str(norm2))\n"
   ]
  },
  {
   "cell_type": "markdown",
   "id": "b3b112c8",
   "metadata": {},
   "source": [
    "# Exercise 2-3.\n",
    "<font size=\"4\">Create a Python function that will take a vector as input and output a unit vector in\n",
    "the same direction. What happens when you input the zeros vector?</font>"
   ]
  },
  {
   "cell_type": "code",
   "execution_count": null,
   "id": "0861d1bf",
   "metadata": {},
   "outputs": [],
   "source": [
    "def random_vector():\n",
    "    dimension = np.random.randint(100)\n",
    "    is_column = bool(np.random.randint(0, 2))\n",
    "    return np.random.randint(1000, size=((dimension, 1) if is_column else (1, dimension)))\n",
    "    \n",
    "def unit_vector(v):\n",
    "    norm = np.linalg.norm(v)\n",
    "    return v / norm\n",
    "\n",
    "# Zero vector gives an error due to division by 0\n",
    "#v = np.array([[0], [0], [0]])\n",
    "\n",
    "v = random_vector()\n",
    "\n",
    "print(f'Vector: {v}')\n",
    "print(f'Unit vector: {unit_vector(v)}')"
   ]
  },
  {
   "cell_type": "markdown",
   "id": "85971c77",
   "metadata": {},
   "source": [
    "# Exercise 2-4.\n",
    "<font size=\"4\">You know how to create unit vectors; what if you want to create a vector of any\n",
    "arbitrary magnitude? Write a Python function that will take a vector and a desired\n",
    "magnitude as inputs and will return a vector in the same direction but with a\n",
    "magnitude corresponding to the second input.\n",
    "</font>"
   ]
  },
  {
   "cell_type": "code",
   "execution_count": null,
   "id": "a9d5c462",
   "metadata": {},
   "outputs": [],
   "source": [
    "def random_vector():\n",
    "    dimension = np.random.randint(100)\n",
    "    is_column = bool(np.random.randint(0, 2))\n",
    "    return np.random.randint(1000, size=((dimension, 1) if is_column else (1, dimension)))\n",
    "    \n",
    "def mag_vector(mag, v):\n",
    "    norm = np.linalg.norm(v)\n",
    "    return mag * v / norm \n",
    "\n",
    "v = random_vector()\n",
    "mag = np.random.randint(50)\n",
    "\n",
    "print(f'Creating vector of magnetude {mag} from: {v}\\n')\n",
    "\n",
    "mag_v = mag_vector(mag, v)\n",
    "print(f'Result: {mag_v}')"
   ]
  }
 ],
 "metadata": {
  "kernelspec": {
   "display_name": "Python 3 (ipykernel)",
   "language": "python",
   "name": "python3"
  },
  "language_info": {
   "codemirror_mode": {
    "name": "ipython",
    "version": 3
   },
   "file_extension": ".py",
   "mimetype": "text/x-python",
   "name": "python",
   "nbconvert_exporter": "python",
   "pygments_lexer": "ipython3",
   "version": "3.10.9"
  }
 },
 "nbformat": 4,
 "nbformat_minor": 5
}
